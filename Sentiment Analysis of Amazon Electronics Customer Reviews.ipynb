{
  "nbformat": 4,
  "nbformat_minor": 0,
  "metadata": {
    "colab": {
      "provenance": []
    },
    "kernelspec": {
      "name": "python3",
      "display_name": "Python 3"
    }
  },
  "cells": [
    {
      "cell_type": "markdown",
      "metadata": {
        "id": "70jps2V9aWMG"
      },
      "source": [
        "# **Sentiment Analysis of Amazon Electronics Customer Reviews**"
      ]
    },
    {
      "cell_type": "markdown",
      "metadata": {
        "id": "_KR71bE6afzs"
      },
      "source": [
        "In this project, I am tackling **a multiclass text classification problem**, where the goal is to predict the **1–5 star rating** of **Amazon electronics product reviews** based on the review text. The dataset comes from Amazon's Electronics category and contains **real customer feedback**. To systematically evaluate model performance, I will implement and compare several algorithms, including **Naive Bayes, Logistic Regression, and XGBoost**. Employing multiple models ensures a robust assessment of their effectiveness in managing the challenges of text data, such as sparsity, class imbalance, and nuanced sentiment variations.\n",
        "\n",
        "**Text mining techniques** are essential because customer reviews are unstructured and rich in sentiment information. By applying methods like feature extraction and machine learning, we can systematically analyze large volumes of text to uncover patterns, improve customer satisfaction insights, and support better business decisions."
      ]
    },
    {
      "cell_type": "markdown",
      "metadata": {
        "id": "KP1N-G9qa1T7"
      },
      "source": [
        "#Dataset description"
      ]
    },
    {
      "cell_type": "markdown",
      "metadata": {
        "id": "xFNaWv5la4kL"
      },
      "source": [
        "In this project, I will use the **Amazon Product Reviews dataset from Kaggle**, focusing specifically on the **Electronics category**. This dataset contains thousands upon thousands of customer reviews, each including information such as the review text, overall** rating (1 to 5 stars)**, product details, and review metadata like helpfulness votes and timestamps. For this project, I will mainly work with the review text and the rating score to analyze customer sentiment and predict the corresponding star ratings based on the written feedback.\n",
        "\n",
        "The dataset was originally created by researchers at the University of California, San Diego (UCSD), who collected and compiled it by crawling Amazon's public product pages over several years. It was not manually labeled by curators in a traditional sense; instead, the data—such as the review content and star ratings—was directly extracted from what customers submitted online. Because of its real-world nature and large scale, this dataset provides an authentic and rich source for studying sentiment analysis, recommendation systems, and other text mining tasks."
      ]
    },
    {
      "cell_type": "markdown",
      "metadata": {
        "id": "Xn4wGZO7bE03"
      },
      "source": [
        "#Text processing"
      ]
    },
    {
      "cell_type": "code",
      "source": [
        "# step1: Import Libraries & Load Dataset\n",
        "\n",
        "# Import libraries\n",
        "import pandas as pd\n",
        "import numpy as np\n",
        "import matplotlib.pyplot as plt\n",
        "import seaborn as sns\n",
        "import nltk\n",
        "import re\n",
        "import string\n",
        "from nltk.corpus import stopwords\n",
        "\n",
        "from sklearn.model_selection import train_test_split\n",
        "from sklearn.feature_extraction.text import TfidfVectorizer\n",
        "from sklearn.naive_bayes import MultinomialNB\n",
        "from sklearn.metrics import classification_report, accuracy_score, confusion_matrix\n",
        "\n",
        "# Download NLTK data\n",
        "nltk.download('stopwords')\n",
        "nltk.download('punkt')\n",
        "nltk.download('wordnet')\n"
      ],
      "metadata": {
        "id": "CtMh1lkE0xHX",
        "colab": {
          "base_uri": "https://localhost:8080/"
        },
        "outputId": "2b4bbc9f-10cf-4809-aee1-418eec2a9bc1"
      },
      "execution_count": null,
      "outputs": [
        {
          "output_type": "stream",
          "name": "stderr",
          "text": [
            "[nltk_data] Downloading package stopwords to /root/nltk_data...\n",
            "[nltk_data]   Package stopwords is already up-to-date!\n",
            "[nltk_data] Downloading package punkt to /root/nltk_data...\n",
            "[nltk_data]   Package punkt is already up-to-date!\n",
            "[nltk_data] Downloading package wordnet to /root/nltk_data...\n",
            "[nltk_data]   Package wordnet is already up-to-date!\n"
          ]
        },
        {
          "output_type": "execute_result",
          "data": {
            "text/plain": [
              "True"
            ]
          },
          "metadata": {},
          "execution_count": 8
        }
      ]
    },
    {
      "cell_type": "code",
      "source": [
        "from google.colab import files\n",
        "uploaded = files.upload()\n"
      ],
      "metadata": {
        "colab": {
          "base_uri": "https://localhost:8080/",
          "height": 73
        },
        "id": "ejNb4IgdKA-s",
        "outputId": "0c7dcd44-a7d3-45c2-b2f4-51a28b25972b"
      },
      "execution_count": null,
      "outputs": [
        {
          "output_type": "display_data",
          "data": {
            "text/plain": [
              "<IPython.core.display.HTML object>"
            ],
            "text/html": [
              "\n",
              "     <input type=\"file\" id=\"files-d8264208-277b-4f9c-88fe-e0f14896d51b\" name=\"files[]\" multiple disabled\n",
              "        style=\"border:none\" />\n",
              "     <output id=\"result-d8264208-277b-4f9c-88fe-e0f14896d51b\">\n",
              "      Upload widget is only available when the cell has been executed in the\n",
              "      current browser session. Please rerun this cell to enable.\n",
              "      </output>\n",
              "      <script>// Copyright 2017 Google LLC\n",
              "//\n",
              "// Licensed under the Apache License, Version 2.0 (the \"License\");\n",
              "// you may not use this file except in compliance with the License.\n",
              "// You may obtain a copy of the License at\n",
              "//\n",
              "//      http://www.apache.org/licenses/LICENSE-2.0\n",
              "//\n",
              "// Unless required by applicable law or agreed to in writing, software\n",
              "// distributed under the License is distributed on an \"AS IS\" BASIS,\n",
              "// WITHOUT WARRANTIES OR CONDITIONS OF ANY KIND, either express or implied.\n",
              "// See the License for the specific language governing permissions and\n",
              "// limitations under the License.\n",
              "\n",
              "/**\n",
              " * @fileoverview Helpers for google.colab Python module.\n",
              " */\n",
              "(function(scope) {\n",
              "function span(text, styleAttributes = {}) {\n",
              "  const element = document.createElement('span');\n",
              "  element.textContent = text;\n",
              "  for (const key of Object.keys(styleAttributes)) {\n",
              "    element.style[key] = styleAttributes[key];\n",
              "  }\n",
              "  return element;\n",
              "}\n",
              "\n",
              "// Max number of bytes which will be uploaded at a time.\n",
              "const MAX_PAYLOAD_SIZE = 100 * 1024;\n",
              "\n",
              "function _uploadFiles(inputId, outputId) {\n",
              "  const steps = uploadFilesStep(inputId, outputId);\n",
              "  const outputElement = document.getElementById(outputId);\n",
              "  // Cache steps on the outputElement to make it available for the next call\n",
              "  // to uploadFilesContinue from Python.\n",
              "  outputElement.steps = steps;\n",
              "\n",
              "  return _uploadFilesContinue(outputId);\n",
              "}\n",
              "\n",
              "// This is roughly an async generator (not supported in the browser yet),\n",
              "// where there are multiple asynchronous steps and the Python side is going\n",
              "// to poll for completion of each step.\n",
              "// This uses a Promise to block the python side on completion of each step,\n",
              "// then passes the result of the previous step as the input to the next step.\n",
              "function _uploadFilesContinue(outputId) {\n",
              "  const outputElement = document.getElementById(outputId);\n",
              "  const steps = outputElement.steps;\n",
              "\n",
              "  const next = steps.next(outputElement.lastPromiseValue);\n",
              "  return Promise.resolve(next.value.promise).then((value) => {\n",
              "    // Cache the last promise value to make it available to the next\n",
              "    // step of the generator.\n",
              "    outputElement.lastPromiseValue = value;\n",
              "    return next.value.response;\n",
              "  });\n",
              "}\n",
              "\n",
              "/**\n",
              " * Generator function which is called between each async step of the upload\n",
              " * process.\n",
              " * @param {string} inputId Element ID of the input file picker element.\n",
              " * @param {string} outputId Element ID of the output display.\n",
              " * @return {!Iterable<!Object>} Iterable of next steps.\n",
              " */\n",
              "function* uploadFilesStep(inputId, outputId) {\n",
              "  const inputElement = document.getElementById(inputId);\n",
              "  inputElement.disabled = false;\n",
              "\n",
              "  const outputElement = document.getElementById(outputId);\n",
              "  outputElement.innerHTML = '';\n",
              "\n",
              "  const pickedPromise = new Promise((resolve) => {\n",
              "    inputElement.addEventListener('change', (e) => {\n",
              "      resolve(e.target.files);\n",
              "    });\n",
              "  });\n",
              "\n",
              "  const cancel = document.createElement('button');\n",
              "  inputElement.parentElement.appendChild(cancel);\n",
              "  cancel.textContent = 'Cancel upload';\n",
              "  const cancelPromise = new Promise((resolve) => {\n",
              "    cancel.onclick = () => {\n",
              "      resolve(null);\n",
              "    };\n",
              "  });\n",
              "\n",
              "  // Wait for the user to pick the files.\n",
              "  const files = yield {\n",
              "    promise: Promise.race([pickedPromise, cancelPromise]),\n",
              "    response: {\n",
              "      action: 'starting',\n",
              "    }\n",
              "  };\n",
              "\n",
              "  cancel.remove();\n",
              "\n",
              "  // Disable the input element since further picks are not allowed.\n",
              "  inputElement.disabled = true;\n",
              "\n",
              "  if (!files) {\n",
              "    return {\n",
              "      response: {\n",
              "        action: 'complete',\n",
              "      }\n",
              "    };\n",
              "  }\n",
              "\n",
              "  for (const file of files) {\n",
              "    const li = document.createElement('li');\n",
              "    li.append(span(file.name, {fontWeight: 'bold'}));\n",
              "    li.append(span(\n",
              "        `(${file.type || 'n/a'}) - ${file.size} bytes, ` +\n",
              "        `last modified: ${\n",
              "            file.lastModifiedDate ? file.lastModifiedDate.toLocaleDateString() :\n",
              "                                    'n/a'} - `));\n",
              "    const percent = span('0% done');\n",
              "    li.appendChild(percent);\n",
              "\n",
              "    outputElement.appendChild(li);\n",
              "\n",
              "    const fileDataPromise = new Promise((resolve) => {\n",
              "      const reader = new FileReader();\n",
              "      reader.onload = (e) => {\n",
              "        resolve(e.target.result);\n",
              "      };\n",
              "      reader.readAsArrayBuffer(file);\n",
              "    });\n",
              "    // Wait for the data to be ready.\n",
              "    let fileData = yield {\n",
              "      promise: fileDataPromise,\n",
              "      response: {\n",
              "        action: 'continue',\n",
              "      }\n",
              "    };\n",
              "\n",
              "    // Use a chunked sending to avoid message size limits. See b/62115660.\n",
              "    let position = 0;\n",
              "    do {\n",
              "      const length = Math.min(fileData.byteLength - position, MAX_PAYLOAD_SIZE);\n",
              "      const chunk = new Uint8Array(fileData, position, length);\n",
              "      position += length;\n",
              "\n",
              "      const base64 = btoa(String.fromCharCode.apply(null, chunk));\n",
              "      yield {\n",
              "        response: {\n",
              "          action: 'append',\n",
              "          file: file.name,\n",
              "          data: base64,\n",
              "        },\n",
              "      };\n",
              "\n",
              "      let percentDone = fileData.byteLength === 0 ?\n",
              "          100 :\n",
              "          Math.round((position / fileData.byteLength) * 100);\n",
              "      percent.textContent = `${percentDone}% done`;\n",
              "\n",
              "    } while (position < fileData.byteLength);\n",
              "  }\n",
              "\n",
              "  // All done.\n",
              "  yield {\n",
              "    response: {\n",
              "      action: 'complete',\n",
              "    }\n",
              "  };\n",
              "}\n",
              "\n",
              "scope.google = scope.google || {};\n",
              "scope.google.colab = scope.google.colab || {};\n",
              "scope.google.colab._files = {\n",
              "  _uploadFiles,\n",
              "  _uploadFilesContinue,\n",
              "};\n",
              "})(self);\n",
              "</script> "
            ]
          },
          "metadata": {}
        },
        {
          "output_type": "stream",
          "name": "stdout",
          "text": [
            "Saving electronics_reviews.csv to electronics_reviews.csv\n"
          ]
        }
      ]
    },
    {
      "cell_type": "code",
      "source": [
        "# Load Amazon Electronics Reviews\n",
        "df = pd.read_csv(\"electronics_reviews.csv\")\n",
        "print(df)"
      ],
      "metadata": {
        "id": "l0lEGJJ81oQK",
        "colab": {
          "base_uri": "https://localhost:8080/"
        },
        "outputId": "33c011dd-143e-479d-e0a3-bef3661a99aa"
      },
      "execution_count": null,
      "outputs": [
        {
          "output_type": "stream",
          "name": "stdout",
          "text": [
            "       overall  vote  reviewTime  \\\n",
            "0            2     0  2010-02-10   \n",
            "1            2     0  2016-10-24   \n",
            "2            1     0  2017-07-10   \n",
            "3            4     5  2013-05-02   \n",
            "4            3     0  2013-01-04   \n",
            "...        ...   ...         ...   \n",
            "19804        3     0  2014-11-11   \n",
            "19805        1     0  2015-03-14   \n",
            "19806        4     0  2009-03-27   \n",
            "19807        3     2  2014-06-06   \n",
            "19808        5     0  2016-06-20   \n",
            "\n",
            "                                              reviewText  \\\n",
            "0                              Tech support is the worst   \n",
            "1      Screws were missing from the bracket and beaut...   \n",
            "2      Trouble connecting and staying connected via b...   \n",
            "3      I purchased this unit for our RV to replace an...   \n",
            "4      It works.  Nuff said but the review requires 1...   \n",
            "...                                                  ...   \n",
            "19804                 rendering lens useless in darkness   \n",
            "19805                                           One Star   \n",
            "19806                         Decent Cable for the Money   \n",
            "19807           OK drop protection for reasonable price.   \n",
            "19808                               Cheap and work great   \n",
            "\n",
            "                                                 summary  \n",
            "0                                             1265760000  \n",
            "1               Spend a little more and get much better.  \n",
            "2                                             1499644800  \n",
            "3      Receiver Offers a Lot of Flexibility & Complexity  \n",
            "4                                           It's a cable  \n",
            "...                                                  ...  \n",
            "19804                                         1415664000  \n",
            "19805                                         1426291200  \n",
            "19806                                         1238112000  \n",
            "19807                                         1402012800  \n",
            "19808                                         1466380800  \n",
            "\n",
            "[19809 rows x 5 columns]\n"
          ]
        }
      ]
    },
    {
      "cell_type": "code",
      "source": [
        "print(df['overall'].value_counts())"
      ],
      "metadata": {
        "colab": {
          "base_uri": "https://localhost:8080/"
        },
        "id": "gAjaOUAZBLWS",
        "outputId": "df6cd243-58d5-434c-baec-da97a5605fc9"
      },
      "execution_count": null,
      "outputs": [
        {
          "output_type": "stream",
          "name": "stdout",
          "text": [
            "overall\n",
            "5    4036\n",
            "1    4023\n",
            "4    3952\n",
            "3    3922\n",
            "2    3876\n",
            "Name: count, dtype: int64\n"
          ]
        }
      ]
    },
    {
      "cell_type": "code",
      "source": [
        "# rename the column\n",
        "df = df[['reviewText', 'overall']].dropna()\n",
        "df = df.rename(columns={'reviewText': 'review', 'overall': 'rating'})\n",
        "\n",
        "# Display basic info\n",
        "df.head()\n"
      ],
      "metadata": {
        "colab": {
          "base_uri": "https://localhost:8080/",
          "height": 206
        },
        "id": "m6DKBn-P04hU",
        "outputId": "7ad74899-7170-437c-cc8b-67e85d6369f5"
      },
      "execution_count": null,
      "outputs": [
        {
          "output_type": "execute_result",
          "data": {
            "text/plain": [
              "                                              review  rating\n",
              "0                          Tech support is the worst       2\n",
              "1  Screws were missing from the bracket and beaut...       2\n",
              "2  Trouble connecting and staying connected via b...       1\n",
              "3  I purchased this unit for our RV to replace an...       4\n",
              "4  It works.  Nuff said but the review requires 1...       3"
            ],
            "text/html": [
              "\n",
              "  <div id=\"df-c63b9525-5c8f-4fcf-b26a-fa42fb56c71d\" class=\"colab-df-container\">\n",
              "    <div>\n",
              "<style scoped>\n",
              "    .dataframe tbody tr th:only-of-type {\n",
              "        vertical-align: middle;\n",
              "    }\n",
              "\n",
              "    .dataframe tbody tr th {\n",
              "        vertical-align: top;\n",
              "    }\n",
              "\n",
              "    .dataframe thead th {\n",
              "        text-align: right;\n",
              "    }\n",
              "</style>\n",
              "<table border=\"1\" class=\"dataframe\">\n",
              "  <thead>\n",
              "    <tr style=\"text-align: right;\">\n",
              "      <th></th>\n",
              "      <th>review</th>\n",
              "      <th>rating</th>\n",
              "    </tr>\n",
              "  </thead>\n",
              "  <tbody>\n",
              "    <tr>\n",
              "      <th>0</th>\n",
              "      <td>Tech support is the worst</td>\n",
              "      <td>2</td>\n",
              "    </tr>\n",
              "    <tr>\n",
              "      <th>1</th>\n",
              "      <td>Screws were missing from the bracket and beaut...</td>\n",
              "      <td>2</td>\n",
              "    </tr>\n",
              "    <tr>\n",
              "      <th>2</th>\n",
              "      <td>Trouble connecting and staying connected via b...</td>\n",
              "      <td>1</td>\n",
              "    </tr>\n",
              "    <tr>\n",
              "      <th>3</th>\n",
              "      <td>I purchased this unit for our RV to replace an...</td>\n",
              "      <td>4</td>\n",
              "    </tr>\n",
              "    <tr>\n",
              "      <th>4</th>\n",
              "      <td>It works.  Nuff said but the review requires 1...</td>\n",
              "      <td>3</td>\n",
              "    </tr>\n",
              "  </tbody>\n",
              "</table>\n",
              "</div>\n",
              "    <div class=\"colab-df-buttons\">\n",
              "\n",
              "  <div class=\"colab-df-container\">\n",
              "    <button class=\"colab-df-convert\" onclick=\"convertToInteractive('df-c63b9525-5c8f-4fcf-b26a-fa42fb56c71d')\"\n",
              "            title=\"Convert this dataframe to an interactive table.\"\n",
              "            style=\"display:none;\">\n",
              "\n",
              "  <svg xmlns=\"http://www.w3.org/2000/svg\" height=\"24px\" viewBox=\"0 -960 960 960\">\n",
              "    <path d=\"M120-120v-720h720v720H120Zm60-500h600v-160H180v160Zm220 220h160v-160H400v160Zm0 220h160v-160H400v160ZM180-400h160v-160H180v160Zm440 0h160v-160H620v160ZM180-180h160v-160H180v160Zm440 0h160v-160H620v160Z\"/>\n",
              "  </svg>\n",
              "    </button>\n",
              "\n",
              "  <style>\n",
              "    .colab-df-container {\n",
              "      display:flex;\n",
              "      gap: 12px;\n",
              "    }\n",
              "\n",
              "    .colab-df-convert {\n",
              "      background-color: #E8F0FE;\n",
              "      border: none;\n",
              "      border-radius: 50%;\n",
              "      cursor: pointer;\n",
              "      display: none;\n",
              "      fill: #1967D2;\n",
              "      height: 32px;\n",
              "      padding: 0 0 0 0;\n",
              "      width: 32px;\n",
              "    }\n",
              "\n",
              "    .colab-df-convert:hover {\n",
              "      background-color: #E2EBFA;\n",
              "      box-shadow: 0px 1px 2px rgba(60, 64, 67, 0.3), 0px 1px 3px 1px rgba(60, 64, 67, 0.15);\n",
              "      fill: #174EA6;\n",
              "    }\n",
              "\n",
              "    .colab-df-buttons div {\n",
              "      margin-bottom: 4px;\n",
              "    }\n",
              "\n",
              "    [theme=dark] .colab-df-convert {\n",
              "      background-color: #3B4455;\n",
              "      fill: #D2E3FC;\n",
              "    }\n",
              "\n",
              "    [theme=dark] .colab-df-convert:hover {\n",
              "      background-color: #434B5C;\n",
              "      box-shadow: 0px 1px 3px 1px rgba(0, 0, 0, 0.15);\n",
              "      filter: drop-shadow(0px 1px 2px rgba(0, 0, 0, 0.3));\n",
              "      fill: #FFFFFF;\n",
              "    }\n",
              "  </style>\n",
              "\n",
              "    <script>\n",
              "      const buttonEl =\n",
              "        document.querySelector('#df-c63b9525-5c8f-4fcf-b26a-fa42fb56c71d button.colab-df-convert');\n",
              "      buttonEl.style.display =\n",
              "        google.colab.kernel.accessAllowed ? 'block' : 'none';\n",
              "\n",
              "      async function convertToInteractive(key) {\n",
              "        const element = document.querySelector('#df-c63b9525-5c8f-4fcf-b26a-fa42fb56c71d');\n",
              "        const dataTable =\n",
              "          await google.colab.kernel.invokeFunction('convertToInteractive',\n",
              "                                                    [key], {});\n",
              "        if (!dataTable) return;\n",
              "\n",
              "        const docLinkHtml = 'Like what you see? Visit the ' +\n",
              "          '<a target=\"_blank\" href=https://colab.research.google.com/notebooks/data_table.ipynb>data table notebook</a>'\n",
              "          + ' to learn more about interactive tables.';\n",
              "        element.innerHTML = '';\n",
              "        dataTable['output_type'] = 'display_data';\n",
              "        await google.colab.output.renderOutput(dataTable, element);\n",
              "        const docLink = document.createElement('div');\n",
              "        docLink.innerHTML = docLinkHtml;\n",
              "        element.appendChild(docLink);\n",
              "      }\n",
              "    </script>\n",
              "  </div>\n",
              "\n",
              "\n",
              "    <div id=\"df-58682698-fdbe-442a-8b7e-5ba9486314c8\">\n",
              "      <button class=\"colab-df-quickchart\" onclick=\"quickchart('df-58682698-fdbe-442a-8b7e-5ba9486314c8')\"\n",
              "                title=\"Suggest charts\"\n",
              "                style=\"display:none;\">\n",
              "\n",
              "<svg xmlns=\"http://www.w3.org/2000/svg\" height=\"24px\"viewBox=\"0 0 24 24\"\n",
              "     width=\"24px\">\n",
              "    <g>\n",
              "        <path d=\"M19 3H5c-1.1 0-2 .9-2 2v14c0 1.1.9 2 2 2h14c1.1 0 2-.9 2-2V5c0-1.1-.9-2-2-2zM9 17H7v-7h2v7zm4 0h-2V7h2v10zm4 0h-2v-4h2v4z\"/>\n",
              "    </g>\n",
              "</svg>\n",
              "      </button>\n",
              "\n",
              "<style>\n",
              "  .colab-df-quickchart {\n",
              "      --bg-color: #E8F0FE;\n",
              "      --fill-color: #1967D2;\n",
              "      --hover-bg-color: #E2EBFA;\n",
              "      --hover-fill-color: #174EA6;\n",
              "      --disabled-fill-color: #AAA;\n",
              "      --disabled-bg-color: #DDD;\n",
              "  }\n",
              "\n",
              "  [theme=dark] .colab-df-quickchart {\n",
              "      --bg-color: #3B4455;\n",
              "      --fill-color: #D2E3FC;\n",
              "      --hover-bg-color: #434B5C;\n",
              "      --hover-fill-color: #FFFFFF;\n",
              "      --disabled-bg-color: #3B4455;\n",
              "      --disabled-fill-color: #666;\n",
              "  }\n",
              "\n",
              "  .colab-df-quickchart {\n",
              "    background-color: var(--bg-color);\n",
              "    border: none;\n",
              "    border-radius: 50%;\n",
              "    cursor: pointer;\n",
              "    display: none;\n",
              "    fill: var(--fill-color);\n",
              "    height: 32px;\n",
              "    padding: 0;\n",
              "    width: 32px;\n",
              "  }\n",
              "\n",
              "  .colab-df-quickchart:hover {\n",
              "    background-color: var(--hover-bg-color);\n",
              "    box-shadow: 0 1px 2px rgba(60, 64, 67, 0.3), 0 1px 3px 1px rgba(60, 64, 67, 0.15);\n",
              "    fill: var(--button-hover-fill-color);\n",
              "  }\n",
              "\n",
              "  .colab-df-quickchart-complete:disabled,\n",
              "  .colab-df-quickchart-complete:disabled:hover {\n",
              "    background-color: var(--disabled-bg-color);\n",
              "    fill: var(--disabled-fill-color);\n",
              "    box-shadow: none;\n",
              "  }\n",
              "\n",
              "  .colab-df-spinner {\n",
              "    border: 2px solid var(--fill-color);\n",
              "    border-color: transparent;\n",
              "    border-bottom-color: var(--fill-color);\n",
              "    animation:\n",
              "      spin 1s steps(1) infinite;\n",
              "  }\n",
              "\n",
              "  @keyframes spin {\n",
              "    0% {\n",
              "      border-color: transparent;\n",
              "      border-bottom-color: var(--fill-color);\n",
              "      border-left-color: var(--fill-color);\n",
              "    }\n",
              "    20% {\n",
              "      border-color: transparent;\n",
              "      border-left-color: var(--fill-color);\n",
              "      border-top-color: var(--fill-color);\n",
              "    }\n",
              "    30% {\n",
              "      border-color: transparent;\n",
              "      border-left-color: var(--fill-color);\n",
              "      border-top-color: var(--fill-color);\n",
              "      border-right-color: var(--fill-color);\n",
              "    }\n",
              "    40% {\n",
              "      border-color: transparent;\n",
              "      border-right-color: var(--fill-color);\n",
              "      border-top-color: var(--fill-color);\n",
              "    }\n",
              "    60% {\n",
              "      border-color: transparent;\n",
              "      border-right-color: var(--fill-color);\n",
              "    }\n",
              "    80% {\n",
              "      border-color: transparent;\n",
              "      border-right-color: var(--fill-color);\n",
              "      border-bottom-color: var(--fill-color);\n",
              "    }\n",
              "    90% {\n",
              "      border-color: transparent;\n",
              "      border-bottom-color: var(--fill-color);\n",
              "    }\n",
              "  }\n",
              "</style>\n",
              "\n",
              "      <script>\n",
              "        async function quickchart(key) {\n",
              "          const quickchartButtonEl =\n",
              "            document.querySelector('#' + key + ' button');\n",
              "          quickchartButtonEl.disabled = true;  // To prevent multiple clicks.\n",
              "          quickchartButtonEl.classList.add('colab-df-spinner');\n",
              "          try {\n",
              "            const charts = await google.colab.kernel.invokeFunction(\n",
              "                'suggestCharts', [key], {});\n",
              "          } catch (error) {\n",
              "            console.error('Error during call to suggestCharts:', error);\n",
              "          }\n",
              "          quickchartButtonEl.classList.remove('colab-df-spinner');\n",
              "          quickchartButtonEl.classList.add('colab-df-quickchart-complete');\n",
              "        }\n",
              "        (() => {\n",
              "          let quickchartButtonEl =\n",
              "            document.querySelector('#df-58682698-fdbe-442a-8b7e-5ba9486314c8 button');\n",
              "          quickchartButtonEl.style.display =\n",
              "            google.colab.kernel.accessAllowed ? 'block' : 'none';\n",
              "        })();\n",
              "      </script>\n",
              "    </div>\n",
              "\n",
              "    </div>\n",
              "  </div>\n"
            ],
            "application/vnd.google.colaboratory.intrinsic+json": {
              "type": "dataframe",
              "variable_name": "df",
              "summary": "{\n  \"name\": \"df\",\n  \"rows\": 19808,\n  \"fields\": [\n    {\n      \"column\": \"review\",\n      \"properties\": {\n        \"dtype\": \"string\",\n        \"num_unique_values\": 17608,\n        \"samples\": [\n          \"First time no go. second time's a go\",\n          \"Good economical charger, handles Asus T100A 3775 tablet without issue when few others will.\",\n          \"I bought this PC for my kids as a Christmas gift. Easy setup and good computing power. Ignore all the bad reviews that talk about Windows 8. Windows 8 takes some getting use to, my 13yr old jumped on and had no problems navigating around and getting familiar with it. Make sure to upgrade to Windows 8.1, you will have to run Windows updates before you will see the Windows 8.1 upgrade in the Windows Store.\"\n        ],\n        \"semantic_type\": \"\",\n        \"description\": \"\"\n      }\n    },\n    {\n      \"column\": \"rating\",\n      \"properties\": {\n        \"dtype\": \"number\",\n        \"std\": 1,\n        \"min\": 1,\n        \"max\": 5,\n        \"num_unique_values\": 5,\n        \"samples\": [\n          1,\n          5,\n          4\n        ],\n        \"semantic_type\": \"\",\n        \"description\": \"\"\n      }\n    }\n  ]\n}"
            }
          },
          "metadata": {},
          "execution_count": 11
        }
      ]
    },
    {
      "cell_type": "code",
      "source": [
        "import nltk\n",
        "nltk.download('punkt_tab')\n",
        "nltk.download('stopwords')\n",
        "\n",
        "# Define stopwords\n",
        "stop_words = set(stopwords.words('english'))\n",
        "\n",
        "# Text cleaning function\n",
        "def clean_text(text):\n",
        "    text = text.lower()  # Convert to lowercase\n",
        "    text = re.sub(r\"<.*?>\", \"\", text)  # Remove HTML tags\n",
        "    text = re.sub(r\"[^a-zA-Z]\", \" \", text)  # Keep only alphabetic characters\n",
        "    text = text.translate(str.maketrans('', '', string.punctuation))  # Remove punctuation\n",
        "    tokens = nltk.word_tokenize(text)  # Tokenize text\n",
        "    tokens = [word for word in tokens if word not in stop_words and len(word) > 2]  # Remove stopwords and short words\n",
        "    return \" \".join(tokens)\n",
        "\n",
        "# Assume you already loaded df\n",
        "# df = pd.read_csv('your_dataset.csv')\n",
        "\n",
        "# Keep only valid ratings\n",
        "df = df[df['rating'].isin([1, 2, 3, 4, 5])]\n",
        "df = df.dropna(subset=['review', 'rating'])  # Drop rows with missing reviews or ratings\n",
        "\n",
        "# Apply the cleaning\n",
        "df['clean_review'] = df['review'].apply(clean_text)\n",
        "\n",
        "# Preview\n",
        "df.head()"
      ],
      "metadata": {
        "colab": {
          "base_uri": "https://localhost:8080/",
          "height": 275
        },
        "id": "wGcuMdLkOS3E",
        "outputId": "7309f9d9-ba0d-431f-cf79-fffb5b8be735"
      },
      "execution_count": null,
      "outputs": [
        {
          "output_type": "stream",
          "name": "stderr",
          "text": [
            "[nltk_data] Downloading package punkt_tab to /root/nltk_data...\n",
            "[nltk_data]   Unzipping tokenizers/punkt_tab.zip.\n",
            "[nltk_data] Downloading package stopwords to /root/nltk_data...\n",
            "[nltk_data]   Package stopwords is already up-to-date!\n"
          ]
        },
        {
          "output_type": "execute_result",
          "data": {
            "text/plain": [
              "                                              review  rating  \\\n",
              "0                          Tech support is the worst       2   \n",
              "1  Screws were missing from the bracket and beaut...       2   \n",
              "2  Trouble connecting and staying connected via b...       1   \n",
              "3  I purchased this unit for our RV to replace an...       4   \n",
              "4  It works.  Nuff said but the review requires 1...       3   \n",
              "\n",
              "                                        clean_review  \n",
              "0                                 tech support worst  \n",
              "1  screws missing bracket beauty dish within week...  \n",
              "2  trouble connecting staying connected via bluet...  \n",
              "3  purchased unit replace older cassette tape uni...  \n",
              "4  works nuff said review requires words words bl...  "
            ],
            "text/html": [
              "\n",
              "  <div id=\"df-7d65893e-f330-42ef-80c3-74e110ec1c18\" class=\"colab-df-container\">\n",
              "    <div>\n",
              "<style scoped>\n",
              "    .dataframe tbody tr th:only-of-type {\n",
              "        vertical-align: middle;\n",
              "    }\n",
              "\n",
              "    .dataframe tbody tr th {\n",
              "        vertical-align: top;\n",
              "    }\n",
              "\n",
              "    .dataframe thead th {\n",
              "        text-align: right;\n",
              "    }\n",
              "</style>\n",
              "<table border=\"1\" class=\"dataframe\">\n",
              "  <thead>\n",
              "    <tr style=\"text-align: right;\">\n",
              "      <th></th>\n",
              "      <th>review</th>\n",
              "      <th>rating</th>\n",
              "      <th>clean_review</th>\n",
              "    </tr>\n",
              "  </thead>\n",
              "  <tbody>\n",
              "    <tr>\n",
              "      <th>0</th>\n",
              "      <td>Tech support is the worst</td>\n",
              "      <td>2</td>\n",
              "      <td>tech support worst</td>\n",
              "    </tr>\n",
              "    <tr>\n",
              "      <th>1</th>\n",
              "      <td>Screws were missing from the bracket and beaut...</td>\n",
              "      <td>2</td>\n",
              "      <td>screws missing bracket beauty dish within week...</td>\n",
              "    </tr>\n",
              "    <tr>\n",
              "      <th>2</th>\n",
              "      <td>Trouble connecting and staying connected via b...</td>\n",
              "      <td>1</td>\n",
              "      <td>trouble connecting staying connected via bluet...</td>\n",
              "    </tr>\n",
              "    <tr>\n",
              "      <th>3</th>\n",
              "      <td>I purchased this unit for our RV to replace an...</td>\n",
              "      <td>4</td>\n",
              "      <td>purchased unit replace older cassette tape uni...</td>\n",
              "    </tr>\n",
              "    <tr>\n",
              "      <th>4</th>\n",
              "      <td>It works.  Nuff said but the review requires 1...</td>\n",
              "      <td>3</td>\n",
              "      <td>works nuff said review requires words words bl...</td>\n",
              "    </tr>\n",
              "  </tbody>\n",
              "</table>\n",
              "</div>\n",
              "    <div class=\"colab-df-buttons\">\n",
              "\n",
              "  <div class=\"colab-df-container\">\n",
              "    <button class=\"colab-df-convert\" onclick=\"convertToInteractive('df-7d65893e-f330-42ef-80c3-74e110ec1c18')\"\n",
              "            title=\"Convert this dataframe to an interactive table.\"\n",
              "            style=\"display:none;\">\n",
              "\n",
              "  <svg xmlns=\"http://www.w3.org/2000/svg\" height=\"24px\" viewBox=\"0 -960 960 960\">\n",
              "    <path d=\"M120-120v-720h720v720H120Zm60-500h600v-160H180v160Zm220 220h160v-160H400v160Zm0 220h160v-160H400v160ZM180-400h160v-160H180v160Zm440 0h160v-160H620v160ZM180-180h160v-160H180v160Zm440 0h160v-160H620v160Z\"/>\n",
              "  </svg>\n",
              "    </button>\n",
              "\n",
              "  <style>\n",
              "    .colab-df-container {\n",
              "      display:flex;\n",
              "      gap: 12px;\n",
              "    }\n",
              "\n",
              "    .colab-df-convert {\n",
              "      background-color: #E8F0FE;\n",
              "      border: none;\n",
              "      border-radius: 50%;\n",
              "      cursor: pointer;\n",
              "      display: none;\n",
              "      fill: #1967D2;\n",
              "      height: 32px;\n",
              "      padding: 0 0 0 0;\n",
              "      width: 32px;\n",
              "    }\n",
              "\n",
              "    .colab-df-convert:hover {\n",
              "      background-color: #E2EBFA;\n",
              "      box-shadow: 0px 1px 2px rgba(60, 64, 67, 0.3), 0px 1px 3px 1px rgba(60, 64, 67, 0.15);\n",
              "      fill: #174EA6;\n",
              "    }\n",
              "\n",
              "    .colab-df-buttons div {\n",
              "      margin-bottom: 4px;\n",
              "    }\n",
              "\n",
              "    [theme=dark] .colab-df-convert {\n",
              "      background-color: #3B4455;\n",
              "      fill: #D2E3FC;\n",
              "    }\n",
              "\n",
              "    [theme=dark] .colab-df-convert:hover {\n",
              "      background-color: #434B5C;\n",
              "      box-shadow: 0px 1px 3px 1px rgba(0, 0, 0, 0.15);\n",
              "      filter: drop-shadow(0px 1px 2px rgba(0, 0, 0, 0.3));\n",
              "      fill: #FFFFFF;\n",
              "    }\n",
              "  </style>\n",
              "\n",
              "    <script>\n",
              "      const buttonEl =\n",
              "        document.querySelector('#df-7d65893e-f330-42ef-80c3-74e110ec1c18 button.colab-df-convert');\n",
              "      buttonEl.style.display =\n",
              "        google.colab.kernel.accessAllowed ? 'block' : 'none';\n",
              "\n",
              "      async function convertToInteractive(key) {\n",
              "        const element = document.querySelector('#df-7d65893e-f330-42ef-80c3-74e110ec1c18');\n",
              "        const dataTable =\n",
              "          await google.colab.kernel.invokeFunction('convertToInteractive',\n",
              "                                                    [key], {});\n",
              "        if (!dataTable) return;\n",
              "\n",
              "        const docLinkHtml = 'Like what you see? Visit the ' +\n",
              "          '<a target=\"_blank\" href=https://colab.research.google.com/notebooks/data_table.ipynb>data table notebook</a>'\n",
              "          + ' to learn more about interactive tables.';\n",
              "        element.innerHTML = '';\n",
              "        dataTable['output_type'] = 'display_data';\n",
              "        await google.colab.output.renderOutput(dataTable, element);\n",
              "        const docLink = document.createElement('div');\n",
              "        docLink.innerHTML = docLinkHtml;\n",
              "        element.appendChild(docLink);\n",
              "      }\n",
              "    </script>\n",
              "  </div>\n",
              "\n",
              "\n",
              "    <div id=\"df-077b694b-02e2-40b2-ad39-174ecb0c4cb3\">\n",
              "      <button class=\"colab-df-quickchart\" onclick=\"quickchart('df-077b694b-02e2-40b2-ad39-174ecb0c4cb3')\"\n",
              "                title=\"Suggest charts\"\n",
              "                style=\"display:none;\">\n",
              "\n",
              "<svg xmlns=\"http://www.w3.org/2000/svg\" height=\"24px\"viewBox=\"0 0 24 24\"\n",
              "     width=\"24px\">\n",
              "    <g>\n",
              "        <path d=\"M19 3H5c-1.1 0-2 .9-2 2v14c0 1.1.9 2 2 2h14c1.1 0 2-.9 2-2V5c0-1.1-.9-2-2-2zM9 17H7v-7h2v7zm4 0h-2V7h2v10zm4 0h-2v-4h2v4z\"/>\n",
              "    </g>\n",
              "</svg>\n",
              "      </button>\n",
              "\n",
              "<style>\n",
              "  .colab-df-quickchart {\n",
              "      --bg-color: #E8F0FE;\n",
              "      --fill-color: #1967D2;\n",
              "      --hover-bg-color: #E2EBFA;\n",
              "      --hover-fill-color: #174EA6;\n",
              "      --disabled-fill-color: #AAA;\n",
              "      --disabled-bg-color: #DDD;\n",
              "  }\n",
              "\n",
              "  [theme=dark] .colab-df-quickchart {\n",
              "      --bg-color: #3B4455;\n",
              "      --fill-color: #D2E3FC;\n",
              "      --hover-bg-color: #434B5C;\n",
              "      --hover-fill-color: #FFFFFF;\n",
              "      --disabled-bg-color: #3B4455;\n",
              "      --disabled-fill-color: #666;\n",
              "  }\n",
              "\n",
              "  .colab-df-quickchart {\n",
              "    background-color: var(--bg-color);\n",
              "    border: none;\n",
              "    border-radius: 50%;\n",
              "    cursor: pointer;\n",
              "    display: none;\n",
              "    fill: var(--fill-color);\n",
              "    height: 32px;\n",
              "    padding: 0;\n",
              "    width: 32px;\n",
              "  }\n",
              "\n",
              "  .colab-df-quickchart:hover {\n",
              "    background-color: var(--hover-bg-color);\n",
              "    box-shadow: 0 1px 2px rgba(60, 64, 67, 0.3), 0 1px 3px 1px rgba(60, 64, 67, 0.15);\n",
              "    fill: var(--button-hover-fill-color);\n",
              "  }\n",
              "\n",
              "  .colab-df-quickchart-complete:disabled,\n",
              "  .colab-df-quickchart-complete:disabled:hover {\n",
              "    background-color: var(--disabled-bg-color);\n",
              "    fill: var(--disabled-fill-color);\n",
              "    box-shadow: none;\n",
              "  }\n",
              "\n",
              "  .colab-df-spinner {\n",
              "    border: 2px solid var(--fill-color);\n",
              "    border-color: transparent;\n",
              "    border-bottom-color: var(--fill-color);\n",
              "    animation:\n",
              "      spin 1s steps(1) infinite;\n",
              "  }\n",
              "\n",
              "  @keyframes spin {\n",
              "    0% {\n",
              "      border-color: transparent;\n",
              "      border-bottom-color: var(--fill-color);\n",
              "      border-left-color: var(--fill-color);\n",
              "    }\n",
              "    20% {\n",
              "      border-color: transparent;\n",
              "      border-left-color: var(--fill-color);\n",
              "      border-top-color: var(--fill-color);\n",
              "    }\n",
              "    30% {\n",
              "      border-color: transparent;\n",
              "      border-left-color: var(--fill-color);\n",
              "      border-top-color: var(--fill-color);\n",
              "      border-right-color: var(--fill-color);\n",
              "    }\n",
              "    40% {\n",
              "      border-color: transparent;\n",
              "      border-right-color: var(--fill-color);\n",
              "      border-top-color: var(--fill-color);\n",
              "    }\n",
              "    60% {\n",
              "      border-color: transparent;\n",
              "      border-right-color: var(--fill-color);\n",
              "    }\n",
              "    80% {\n",
              "      border-color: transparent;\n",
              "      border-right-color: var(--fill-color);\n",
              "      border-bottom-color: var(--fill-color);\n",
              "    }\n",
              "    90% {\n",
              "      border-color: transparent;\n",
              "      border-bottom-color: var(--fill-color);\n",
              "    }\n",
              "  }\n",
              "</style>\n",
              "\n",
              "      <script>\n",
              "        async function quickchart(key) {\n",
              "          const quickchartButtonEl =\n",
              "            document.querySelector('#' + key + ' button');\n",
              "          quickchartButtonEl.disabled = true;  // To prevent multiple clicks.\n",
              "          quickchartButtonEl.classList.add('colab-df-spinner');\n",
              "          try {\n",
              "            const charts = await google.colab.kernel.invokeFunction(\n",
              "                'suggestCharts', [key], {});\n",
              "          } catch (error) {\n",
              "            console.error('Error during call to suggestCharts:', error);\n",
              "          }\n",
              "          quickchartButtonEl.classList.remove('colab-df-spinner');\n",
              "          quickchartButtonEl.classList.add('colab-df-quickchart-complete');\n",
              "        }\n",
              "        (() => {\n",
              "          let quickchartButtonEl =\n",
              "            document.querySelector('#df-077b694b-02e2-40b2-ad39-174ecb0c4cb3 button');\n",
              "          quickchartButtonEl.style.display =\n",
              "            google.colab.kernel.accessAllowed ? 'block' : 'none';\n",
              "        })();\n",
              "      </script>\n",
              "    </div>\n",
              "\n",
              "    </div>\n",
              "  </div>\n"
            ],
            "application/vnd.google.colaboratory.intrinsic+json": {
              "type": "dataframe",
              "variable_name": "df",
              "summary": "{\n  \"name\": \"df\",\n  \"rows\": 19808,\n  \"fields\": [\n    {\n      \"column\": \"review\",\n      \"properties\": {\n        \"dtype\": \"string\",\n        \"num_unique_values\": 17608,\n        \"samples\": [\n          \"First time no go. second time's a go\",\n          \"Good economical charger, handles Asus T100A 3775 tablet without issue when few others will.\",\n          \"I bought this PC for my kids as a Christmas gift. Easy setup and good computing power. Ignore all the bad reviews that talk about Windows 8. Windows 8 takes some getting use to, my 13yr old jumped on and had no problems navigating around and getting familiar with it. Make sure to upgrade to Windows 8.1, you will have to run Windows updates before you will see the Windows 8.1 upgrade in the Windows Store.\"\n        ],\n        \"semantic_type\": \"\",\n        \"description\": \"\"\n      }\n    },\n    {\n      \"column\": \"rating\",\n      \"properties\": {\n        \"dtype\": \"number\",\n        \"std\": 1,\n        \"min\": 1,\n        \"max\": 5,\n        \"num_unique_values\": 5,\n        \"samples\": [\n          1,\n          5,\n          4\n        ],\n        \"semantic_type\": \"\",\n        \"description\": \"\"\n      }\n    },\n    {\n      \"column\": \"clean_review\",\n      \"properties\": {\n        \"dtype\": \"string\",\n        \"num_unique_values\": 16350,\n        \"samples\": [\n          \"earbuds extremely comfortable daresay comfortable earbuds ever worn cord extremely short knew bought suits purposes perfectly use laptop like head strays far jack sound great blocks outside noises amazingly well earbuds well satisfied months later still love grown problems wire casings cracking reviewers mentioned use times week usually hour blocks time wind cord kind tedious first still used case helps winding gotten accustomed ceased bother\",\n          \"rubber gasket thick enough provide lasting hold\",\n          \"thin metal tabs prongs thinnest prongs ever seen best move may snap\"\n        ],\n        \"semantic_type\": \"\",\n        \"description\": \"\"\n      }\n    }\n  ]\n}"
            }
          },
          "metadata": {},
          "execution_count": 14
        }
      ]
    },
    {
      "cell_type": "markdown",
      "source": [
        "In the **text preprocessing** stage, I converted all text **to lowercase, removed HTML tags, non-alphabetic characters, punctuation, and short words**. The text was then **tokenized**, and **common English stopwords were removed** to retain only the most informative terms. These preprocessing steps are essential to **reduce noise and create a consistent representation** of the text data. Effective preprocessing ensures that the model captures important patterns rather than irrelevant variations in the raw text."
      ],
      "metadata": {
        "id": "NzG8puADPkjK"
      }
    },
    {
      "cell_type": "markdown",
      "metadata": {
        "id": "04rgYIp2bXR9"
      },
      "source": [
        "#Text representation"
      ]
    },
    {
      "cell_type": "code",
      "source": [
        "# Extract features (TF-IDF)\n",
        "X = df['clean_review']\n",
        "y = df['rating']  # Ratings 1-5 as labels\n",
        "\n",
        "# Split data into training (80%) and testing (20%) sets\n",
        "X_train, X_test, y_train, y_test = train_test_split(X, y, test_size=0.2, random_state=42)\n",
        "\n",
        "# Use TF-IDF vectorizer with unigrams and bigrams\n",
        "tfidf = TfidfVectorizer(max_features=5000, ngram_range=(1, 2))\n",
        "X_train_tfidf = tfidf.fit_transform(X_train)\n",
        "X_test_tfidf = tfidf.transform(X_test)\n"
      ],
      "metadata": {
        "id": "9-TaToC-TT7V"
      },
      "execution_count": null,
      "outputs": []
    },
    {
      "cell_type": "markdown",
      "metadata": {
        "id": "h3cy9Fj7bfec"
      },
      "source": [
        "I used **TF-IDF with unigrams and bigrams** to represent review texts as numerical features. This approach captures both individual words and meaningful word pairs that better reflect customer sentiment. TF-IDF emphasizes important terms while reducing noise from overly common words, supporting more accurate star rating prediction."
      ]
    },
    {
      "cell_type": "markdown",
      "metadata": {
        "id": "SCzM59ogbvxp"
      },
      "source": [
        "#Text models"
      ]
    },
    {
      "cell_type": "markdown",
      "source": [
        "# Multinomial Naive Bayes"
      ],
      "metadata": {
        "id": "eY_5cvHH22yF"
      }
    },
    {
      "cell_type": "code",
      "source": [
        "\n",
        "model = MultinomialNB()\n",
        "\n",
        "# Train the model\n",
        "model.fit(X_train_tfidf, y_train)\n",
        "\n",
        "# Predict on the test set\n",
        "y_pred = model.predict(X_test_tfidf)"
      ],
      "metadata": {
        "id": "4gV__hER21Ns"
      },
      "execution_count": null,
      "outputs": []
    },
    {
      "cell_type": "markdown",
      "metadata": {
        "id": "FSDzV_WtcLig"
      },
      "source": [
        "#Evaluations"
      ]
    },
    {
      "cell_type": "code",
      "source": [
        "# Calculate accuracy\n",
        "accuracy = accuracy_score(y_test, y_pred)\n",
        "print(f\"Accuracy: {accuracy:.4f}\")\n",
        "\n",
        "# Display classification report\n",
        "print(classification_report(y_test, y_pred))\n"
      ],
      "metadata": {
        "colab": {
          "base_uri": "https://localhost:8080/"
        },
        "id": "j9S5ZSG0QiLX",
        "outputId": "33566352-d11e-4de2-94f8-b75340c22990"
      },
      "execution_count": null,
      "outputs": [
        {
          "output_type": "stream",
          "name": "stdout",
          "text": [
            "Accuracy: 0.4649\n",
            "              precision    recall  f1-score   support\n",
            "\n",
            "           1       0.50      0.65      0.56       780\n",
            "           2       0.42      0.34      0.37       781\n",
            "           3       0.40      0.33      0.36       799\n",
            "           4       0.42      0.44      0.43       781\n",
            "           5       0.55      0.57      0.56       821\n",
            "\n",
            "    accuracy                           0.46      3962\n",
            "   macro avg       0.46      0.46      0.46      3962\n",
            "weighted avg       0.46      0.46      0.46      3962\n",
            "\n"
          ]
        }
      ]
    },
    {
      "cell_type": "markdown",
      "source": [
        "To address the high dimensionality typical of TF-IDF vectors, I further apply **Truncated Singular Value Decomposition (TruncatedSVD)** to reduce the feature space before feeding it into classifiers such as **Logistic Regression and XGBoost**. This dimensionality reduction helps improve computational efficiency and mitigates overfitting while retaining key semantic information."
      ],
      "metadata": {
        "id": "-ebcPEOJ3eM4"
      }
    },
    {
      "cell_type": "code",
      "source": [
        "from sklearn.model_selection import train_test_split\n",
        "from sklearn.feature_extraction.text import TfidfVectorizer\n",
        "from sklearn.decomposition import TruncatedSVD\n",
        "\n",
        "# Prepare features and labels\n",
        "X = df['clean_review']\n",
        "y = df['rating']  # Ratings from 1 to 5\n",
        "\n",
        "# Split data into training (80%) and testing (20%) sets\n",
        "X_train, X_test, y_train, y_test = train_test_split(X, y, test_size=0.2, random_state=42)\n",
        "\n",
        "# Step 1: TF-IDF Vectorization with unigrams and bigrams\n",
        "tfidf = TfidfVectorizer(max_features=5000, ngram_range=(1, 2))\n",
        "X_train_tfidf = tfidf.fit_transform(X_train)\n",
        "X_test_tfidf = tfidf.transform(X_test)\n",
        "\n",
        "# Step 2: Dimensionality reduction using Truncated SVD\n",
        "svd = TruncatedSVD(n_components=300, random_state=42)\n",
        "X_train_reduced = svd.fit_transform(X_train_tfidf)\n",
        "X_test_reduced = svd.transform(X_test_tfidf)\n"
      ],
      "metadata": {
        "id": "vNmaiOv_tWz6"
      },
      "execution_count": null,
      "outputs": []
    },
    {
      "cell_type": "markdown",
      "source": [
        "# Logistic Regression"
      ],
      "metadata": {
        "id": "2Zv5JhYE4I_G"
      }
    },
    {
      "cell_type": "code",
      "source": [
        "from sklearn.linear_model import LogisticRegression\n",
        "\n",
        "# Use Logistic Regression on reduced features\n",
        "model = LogisticRegression(max_iter=1000, random_state=42)\n",
        "\n",
        "# Train the model\n",
        "model.fit(X_train_reduced, y_train)\n",
        "\n",
        "# Predict on the test set\n",
        "y_pred = model.predict(X_test_reduced)\n"
      ],
      "metadata": {
        "id": "kMjG2Jpat9_8"
      },
      "execution_count": null,
      "outputs": []
    },
    {
      "cell_type": "code",
      "source": [
        "from sklearn.metrics import accuracy_score, classification_report, confusion_matrix\n",
        "import seaborn as sns\n",
        "import matplotlib.pyplot as plt\n",
        "\n",
        "# 1. Accuracy\n",
        "accuracy = accuracy_score(y_test, y_pred)\n",
        "print(f\"Accuracy: {accuracy:.4f}\")\n",
        "\n",
        "# 2. Classification Report\n",
        "print(classification_report(y_test, y_pred))\n",
        "\n",
        "# 3. Confusion Matrix\n",
        "cm = confusion_matrix(y_test, y_pred)\n",
        "plt.figure(figsize=(8,6))\n",
        "sns.heatmap(cm, annot=True, fmt='d', cmap='Blues', xticklabels=[1,2,3,4,5], yticklabels=[1,2,3,4,5])\n",
        "plt.xlabel('Predicted')\n",
        "plt.ylabel('Actual')\n",
        "plt.title('Confusion Matrix')\n",
        "plt.show()\n"
      ],
      "metadata": {
        "colab": {
          "base_uri": "https://localhost:8080/",
          "height": 789
        },
        "id": "1nT40ji0uj9y",
        "outputId": "aae055a6-e86f-4441-bcf8-d061e5df7500"
      },
      "execution_count": null,
      "outputs": [
        {
          "output_type": "stream",
          "name": "stdout",
          "text": [
            "Accuracy: 0.4503\n",
            "              precision    recall  f1-score   support\n",
            "\n",
            "           1       0.51      0.62      0.56       780\n",
            "           2       0.35      0.37      0.36       781\n",
            "           3       0.39      0.31      0.35       799\n",
            "           4       0.43      0.41      0.42       781\n",
            "           5       0.55      0.54      0.55       821\n",
            "\n",
            "    accuracy                           0.45      3962\n",
            "   macro avg       0.45      0.45      0.45      3962\n",
            "weighted avg       0.45      0.45      0.45      3962\n",
            "\n"
          ]
        },
        {
          "output_type": "display_data",
          "data": {
            "text/plain": [
              "<Figure size 800x600 with 2 Axes>"
            ],
            "image/png": "[encoded data removed]"
          },
          "metadata": {}
        }
      ]
    },
    {
      "cell_type": "markdown",
      "source": [
        "# XGBoost"
      ],
      "metadata": {
        "id": "b8Ebibso5zwC"
      }
    },
    {
      "cell_type": "code",
      "source": [
        "from xgboost import XGBClassifier\n",
        "\n",
        "# 1. Shift labels to start from 0\n",
        "y_train_adj = y_train - 1\n",
        "y_test_adj = y_test - 1\n",
        "\n",
        "# 2. Initialize XGBoost model\n",
        "xgb_model = XGBClassifier(\n",
        "    n_estimators=100,\n",
        "    learning_rate=0.1,\n",
        "    max_depth=5,\n",
        "    random_state=42,\n",
        "    eval_metric='mlogloss'  # for multi-class classification\n",
        ")\n",
        "\n",
        "# 3. Train the model\n",
        "xgb_model.fit(X_train_reduced, y_train_adj)\n",
        "\n",
        "# 4. Predict on the test set\n",
        "y_pred_adj = xgb_model.predict(X_test_reduced)\n",
        "\n",
        "# 5. Shift predictions back to original labels\n",
        "y_pred = y_pred_adj + 1\n"
      ],
      "metadata": {
        "id": "6Nwtj8RhxGjF"
      },
      "execution_count": null,
      "outputs": []
    },
    {
      "cell_type": "code",
      "source": [
        "from sklearn.metrics import classification_report, confusion_matrix, accuracy_score\n",
        "import seaborn as sns\n",
        "import matplotlib.pyplot as plt\n",
        "\n",
        "# 6. Evaluate the model\n",
        "# 6.1 Accuracy\n",
        "accuracy = accuracy_score(y_test, y_pred)\n",
        "print(\"Test Accuracy: {:.4f}\".format(accuracy))\n",
        "\n",
        "# 6.2 Classification Report\n",
        "print(\"\\nClassification Report:\\n\", classification_report(y_test, y_pred))\n",
        "\n",
        "# 6.3 Confusion Matrix\n",
        "cm = confusion_matrix(y_test, y_pred)\n",
        "\n",
        "# Plot Confusion Matrix\n",
        "plt.figure(figsize=(8, 6))\n",
        "sns.heatmap(cm, annot=True, fmt='d', cmap='Blues', xticklabels=[1,2,3,4,5], yticklabels=[1,2,3,4,5])\n",
        "plt.xlabel('Predicted')\n",
        "plt.ylabel('True')\n",
        "plt.title('Confusion Matrix')\n",
        "plt.show()\n"
      ],
      "metadata": {
        "colab": {
          "base_uri": "https://localhost:8080/",
          "height": 824
        },
        "id": "srJhmKzqxi7K",
        "outputId": "42491f58-ece0-46c9-8c7d-b77670533a2e"
      },
      "execution_count": null,
      "outputs": [
        {
          "output_type": "stream",
          "name": "stdout",
          "text": [
            "Test Accuracy: 0.4372\n",
            "\n",
            "Classification Report:\n",
            "               precision    recall  f1-score   support\n",
            "\n",
            "           1       0.48      0.60      0.53       780\n",
            "           2       0.34      0.33      0.34       781\n",
            "           3       0.39      0.32      0.35       799\n",
            "           4       0.41      0.41      0.41       781\n",
            "           5       0.54      0.52      0.53       821\n",
            "\n",
            "    accuracy                           0.44      3962\n",
            "   macro avg       0.43      0.44      0.43      3962\n",
            "weighted avg       0.43      0.44      0.43      3962\n",
            "\n"
          ]
        },
        {
          "output_type": "display_data",
          "data": {
            "text/plain": [
              "<Figure size 800x600 with 2 Axes>"
            ],
            "image/png": "[encoded data removed]"
          },
          "metadata": {}
        }
      ]
    },
    {
      "cell_type": "markdown",
      "metadata": {
        "id": "QQME-bz7cN0Q"
      },
      "source": [
        "# Why Use Naive Bayes, Logistic Regression, and XGBoost?\n",
        "\n",
        "In this project, three different machine learning algorithms — **Naive Bayes (NB), Logistic Regression (LR), and XGBoost (XGB)** — were chosen to address the multiclass text classification problem. Each method brings unique strengths to the table:\n",
        "\n",
        "**Naive Bayes (NB):** This model is particularly effective for text classification due to its simplicity and the assumption of independence between features. It works well when the relationship between features and the target variable is probabilistic, making it ideal for tasks like sentiment analysis.\n",
        "\n",
        "**Logistic Regression (LR):** Logistic Regression is a linear classifier that is widely used in classification tasks. It can handle large feature sets, such as those from text data (e.g., TF-IDF vectors), and provides an interpretable model with probabilities for each class. It's a good baseline to compare other, more complex models.\n",
        "\n",
        "**XGBoost (XGB):** XGBoost is an advanced gradient-boosting algorithm known for its high performance, particularly on structured data. It handles large datasets efficiently and often performs better on complex, non-linear relationships. XGBoost is well-suited for a text classification problem like this where there may be intricate interactions between the words and sentiment of the reviews."
      ]
    },
    {
      "cell_type": "markdown",
      "source": [
        "# Evaluation of Performance\n",
        "\n",
        "The models were evaluated using the following key metrics:\n",
        "\n",
        "**Accuracy:** The proportion of correctly predicted instances. For XGBoost, accuracy is 43.72%, for Logistic Regression 45.03%, and for Naive Bayes 46.49%. While accuracy gives a general sense of model performance, it can be misleading in imbalanced datasets.\n",
        "\n",
        "**Precision:** The proportion of positive predictions that are correct. High precision for a class means fewer false positives, which is crucial when false positives are costly.\n",
        "\n",
        "**Recall:** The ability of the model to correctly identify all positive instances. High recall minimizes false negatives, ensuring that actual instances are not missed.\n",
        "\n",
        "**F1-Score:** The harmonic mean of precision and recall, providing a balanced view of performance, especially useful in imbalanced datasets.\n",
        "\n",
        "**Macro Average:** The average precision, recall, and F1-score across all classes, treating them equally regardless of their frequency.\n",
        "\n",
        "**Weighted Average:** The average considering the number of instances per class, giving more weight to the performance on frequent classes, which is useful for imbalanced datasets."
      ],
      "metadata": {
        "id": "EiCduOVJ_AHE"
      }
    },
    {
      "cell_type": "markdown",
      "metadata": {
        "id": "aGyGrx_icaEd"
      },
      "source": [
        "#Observations"
      ]
    },
    {
      "cell_type": "markdown",
      "source": [
        "# Reflections and Future Work\n",
        "In this project, I developed a text classification pipeline to predict product review ratings based on **Amazon Electronics review texts**. Through experimenting with **Naive Bayes**, **Logistic Regression**, and **XGBoost**, I learned how different models handle textual data and the impact of feature representations like TF-IDF with unigrams and bigrams, followed by dimensionality reduction using **Truncated SVD**.\n",
        "\n",
        "Since the dataset has relatively balanced class distributions, evaluation metrics such as accuracy, precision, recall, and F1-score provide a reliable assessment of model performance. Overall, the models performed better on extreme ratings (1-star and 5-sta**r) but struggled with middle ratings (2-star, 3-star, and 4-star)**, indicating that simple TF-IDF features may not fully capture nuanced differences in review sentiment.\n",
        "\n",
        "The strengths of the current pipeline include its simplicity, interpretability, and solid baseline performance. However, limitations include insufficient feature richness and moderate model accuracy. In future work, I plan to explore advanced text representations such as pre-trained **word embedding**s (e.g., Word2Vec, GloVe) or transformer-based embeddings. Additionally, **hyperparameter tuning**, **model ensembling**, and experimenting with **deep learning models** could further enhance classification performance.\n",
        "\n"
      ],
      "metadata": {
        "id": "XgEcHKwjCnIL"
      }
    }
  ]
}